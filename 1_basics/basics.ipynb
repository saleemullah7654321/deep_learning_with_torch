{
 "cells": [
  {
   "cell_type": "code",
   "execution_count": 1,
   "id": "59abef59",
   "metadata": {},
   "outputs": [],
   "source": [
    "import torch\n",
    "import torchvision"
   ]
  },
  {
   "cell_type": "code",
   "execution_count": 2,
   "id": "254ed66d",
   "metadata": {},
   "outputs": [
    {
     "data": {
      "text/plain": [
       "True"
      ]
     },
     "execution_count": 2,
     "metadata": {},
     "output_type": "execute_result"
    }
   ],
   "source": [
    "torch.cuda.is_available()"
   ]
  },
  {
   "cell_type": "code",
   "execution_count": 4,
   "id": "a2ef2eca",
   "metadata": {},
   "outputs": [
    {
     "data": {
      "text/plain": [
       "'Quadro M1000M'"
      ]
     },
     "execution_count": 4,
     "metadata": {},
     "output_type": "execute_result"
    }
   ],
   "source": [
    "torch.cuda.get_device_name()"
   ]
  },
  {
   "cell_type": "code",
   "execution_count": 3,
   "id": "0a4b68ac",
   "metadata": {},
   "outputs": [
    {
     "name": "stdout",
     "output_type": "stream",
     "text": [
      "Tue Nov  8 07:01:35 2022       \n",
      "+-----------------------------------------------------------------------------+\n",
      "| NVIDIA-SMI 522.06       Driver Version: 522.06       CUDA Version: 11.8     |\n",
      "|-------------------------------+----------------------+----------------------+\n",
      "| GPU  Name            TCC/WDDM | Bus-Id        Disp.A | Volatile Uncorr. ECC |\n",
      "| Fan  Temp  Perf  Pwr:Usage/Cap|         Memory-Usage | GPU-Util  Compute M. |\n",
      "|                               |                      |               MIG M. |\n",
      "|===============================+======================+======================|\n",
      "|   0  Quadro M1000M      WDDM  | 00000000:01:00.0 Off |                  N/A |\n",
      "| N/A    0C    P0    N/A /  N/A |      0MiB /  2048MiB |      0%      Default |\n",
      "|                               |                      |                  N/A |\n",
      "+-------------------------------+----------------------+----------------------+\n",
      "                                                                               \n",
      "+-----------------------------------------------------------------------------+\n",
      "| Processes:                                                                  |\n",
      "|  GPU   GI   CI        PID   Type   Process name                  GPU Memory |\n",
      "|        ID   ID                                                   Usage      |\n",
      "|=============================================================================|\n",
      "|  No running processes found                                                 |\n",
      "+-----------------------------------------------------------------------------+\n"
     ]
    }
   ],
   "source": [
    "!nvidia-smi"
   ]
  },
  {
   "cell_type": "code",
   "execution_count": 4,
   "id": "33d317bf",
   "metadata": {},
   "outputs": [
    {
     "data": {
      "text/plain": [
       "tensor([1])"
      ]
     },
     "execution_count": 4,
     "metadata": {},
     "output_type": "execute_result"
    }
   ],
   "source": [
    "a = torch.tensor([1])\n",
    "a"
   ]
  },
  {
   "cell_type": "code",
   "execution_count": 5,
   "id": "655b0262",
   "metadata": {},
   "outputs": [
    {
     "data": {
      "text/plain": [
       "tensor([[1, 2, 3],\n",
       "        [2, 3, 4],\n",
       "        [1, 2, 3],\n",
       "        [2, 3, 4]])"
      ]
     },
     "execution_count": 5,
     "metadata": {},
     "output_type": "execute_result"
    }
   ],
   "source": [
    "b = torch.tensor([[1,2,3],[2,3,4],[1,2,3],[2,3,4]])\n",
    "b"
   ]
  },
  {
   "cell_type": "code",
   "execution_count": 6,
   "id": "2fb35863",
   "metadata": {},
   "outputs": [
    {
     "data": {
      "text/plain": [
       "torch.Size([1])"
      ]
     },
     "metadata": {},
     "output_type": "display_data"
    },
    {
     "data": {
      "text/plain": [
       "torch.Size([1])"
      ]
     },
     "metadata": {},
     "output_type": "display_data"
    },
    {
     "data": {
      "text/plain": [
       "torch.Size([4, 3])"
      ]
     },
     "metadata": {},
     "output_type": "display_data"
    },
    {
     "data": {
      "text/plain": [
       "torch.Size([4, 3])"
      ]
     },
     "metadata": {},
     "output_type": "display_data"
    },
    {
     "data": {
      "text/plain": [
       "torch.int64"
      ]
     },
     "metadata": {},
     "output_type": "display_data"
    }
   ],
   "source": [
    "display(\n",
    "a.shape,a.size(),\n",
    "    b.shape,b.size(),b.dtype\n",
    ")"
   ]
  },
  {
   "cell_type": "code",
   "execution_count": 7,
   "id": "ef371527",
   "metadata": {},
   "outputs": [
    {
     "name": "stdout",
     "output_type": "stream",
     "text": [
      "tensor([[21.,  3.,  2.],\n",
      "        [ 4.,  3.,  2.],\n",
      "        [ 1.,  2.,  1.]])\n"
     ]
    }
   ],
   "source": [
    "c = torch.FloatTensor([[21,3,2],[4,3,2],[1,2,1]])\n",
    "print(c)"
   ]
  },
  {
   "cell_type": "code",
   "execution_count": 8,
   "id": "e5bb384b",
   "metadata": {},
   "outputs": [
    {
     "data": {
      "text/plain": [
       "tensor(4.3333)"
      ]
     },
     "execution_count": 8,
     "metadata": {},
     "output_type": "execute_result"
    }
   ],
   "source": [
    "c.mean()"
   ]
  },
  {
   "cell_type": "code",
   "execution_count": 9,
   "id": "d00a9d6e",
   "metadata": {},
   "outputs": [
    {
     "data": {
      "text/plain": [
       "torch.float32"
      ]
     },
     "execution_count": 9,
     "metadata": {},
     "output_type": "execute_result"
    }
   ],
   "source": [
    "c.dtype"
   ]
  },
  {
   "cell_type": "code",
   "execution_count": 10,
   "id": "0f1918a5",
   "metadata": {},
   "outputs": [
    {
     "data": {
      "text/plain": [
       "tensor([[[-2.0852,  1.2965,  1.4074,  0.6420],\n",
       "         [ 0.5549,  1.0517, -1.8096,  0.0287],\n",
       "         [ 0.3156, -0.3353, -0.0176, -0.6429]],\n",
       "\n",
       "        [[ 0.1716, -2.0588,  1.8044,  1.5300],\n",
       "         [ 0.5106,  0.2559,  0.4634,  0.2760],\n",
       "         [-1.0127, -0.5422, -1.3108, -1.0051]]])"
      ]
     },
     "execution_count": 10,
     "metadata": {},
     "output_type": "execute_result"
    }
   ],
   "source": [
    "three_dim = torch.randn(2,3,4)\n",
    "three_dim"
   ]
  },
  {
   "cell_type": "code",
   "execution_count": 11,
   "id": "0432c22a",
   "metadata": {},
   "outputs": [
    {
     "data": {
      "text/plain": [
       "'b:'"
      ]
     },
     "metadata": {},
     "output_type": "display_data"
    },
    {
     "data": {
      "text/plain": [
       "tensor([[1, 2, 3],\n",
       "        [2, 3, 4],\n",
       "        [1, 2, 3],\n",
       "        [2, 3, 4]])"
      ]
     },
     "metadata": {},
     "output_type": "display_data"
    },
    {
     "data": {
      "text/plain": [
       "'b.view(1,-1)'"
      ]
     },
     "metadata": {},
     "output_type": "display_data"
    },
    {
     "data": {
      "text/plain": [
       "tensor([[1, 2, 3, 2, 3, 4, 1, 2, 3, 2, 3, 4]])"
      ]
     },
     "metadata": {},
     "output_type": "display_data"
    },
    {
     "data": {
      "text/plain": [
       "'b.view(-1,1)'"
      ]
     },
     "metadata": {},
     "output_type": "display_data"
    },
    {
     "data": {
      "text/plain": [
       "tensor([[1],\n",
       "        [2],\n",
       "        [3],\n",
       "        [2],\n",
       "        [3],\n",
       "        [4],\n",
       "        [1],\n",
       "        [2],\n",
       "        [3],\n",
       "        [2],\n",
       "        [3],\n",
       "        [4]])"
      ]
     },
     "metadata": {},
     "output_type": "display_data"
    },
    {
     "data": {
      "text/plain": [
       "'b.view(-1,4)'"
      ]
     },
     "metadata": {},
     "output_type": "display_data"
    },
    {
     "data": {
      "text/plain": [
       "tensor([[1, 2, 3, 2],\n",
       "        [3, 4, 1, 2],\n",
       "        [3, 2, 3, 4]])"
      ]
     },
     "metadata": {},
     "output_type": "display_data"
    },
    {
     "data": {
      "text/plain": [
       "'three_dim'"
      ]
     },
     "metadata": {},
     "output_type": "display_data"
    },
    {
     "data": {
      "text/plain": [
       "tensor([[[-2.0852,  1.2965,  1.4074,  0.6420],\n",
       "         [ 0.5549,  1.0517, -1.8096,  0.0287],\n",
       "         [ 0.3156, -0.3353, -0.0176, -0.6429]],\n",
       "\n",
       "        [[ 0.1716, -2.0588,  1.8044,  1.5300],\n",
       "         [ 0.5106,  0.2559,  0.4634,  0.2760],\n",
       "         [-1.0127, -0.5422, -1.3108, -1.0051]]])"
      ]
     },
     "metadata": {},
     "output_type": "display_data"
    },
    {
     "data": {
      "text/plain": [
       "'three_dim.view(-1,1)'"
      ]
     },
     "metadata": {},
     "output_type": "display_data"
    },
    {
     "data": {
      "text/plain": [
       "tensor([[-2.0852],\n",
       "        [ 1.2965],\n",
       "        [ 1.4074],\n",
       "        [ 0.6420],\n",
       "        [ 0.5549],\n",
       "        [ 1.0517],\n",
       "        [-1.8096],\n",
       "        [ 0.0287],\n",
       "        [ 0.3156],\n",
       "        [-0.3353],\n",
       "        [-0.0176],\n",
       "        [-0.6429],\n",
       "        [ 0.1716],\n",
       "        [-2.0588],\n",
       "        [ 1.8044],\n",
       "        [ 1.5300],\n",
       "        [ 0.5106],\n",
       "        [ 0.2559],\n",
       "        [ 0.4634],\n",
       "        [ 0.2760],\n",
       "        [-1.0127],\n",
       "        [-0.5422],\n",
       "        [-1.3108],\n",
       "        [-1.0051]])"
      ]
     },
     "metadata": {},
     "output_type": "display_data"
    },
    {
     "data": {
      "text/plain": [
       "'three_dim.view(2,-1)'"
      ]
     },
     "metadata": {},
     "output_type": "display_data"
    },
    {
     "data": {
      "text/plain": [
       "tensor([[-2.0852,  1.2965,  1.4074,  0.6420,  0.5549,  1.0517, -1.8096,  0.0287,\n",
       "          0.3156, -0.3353, -0.0176, -0.6429],\n",
       "        [ 0.1716, -2.0588,  1.8044,  1.5300,  0.5106,  0.2559,  0.4634,  0.2760,\n",
       "         -1.0127, -0.5422, -1.3108, -1.0051]])"
      ]
     },
     "metadata": {},
     "output_type": "display_data"
    }
   ],
   "source": [
    "display(\n",
    "    \"b:\",b,\n",
    "    'b.view(1,-1)',\n",
    "    b.view(1,-1),\n",
    "    'b.view(-1,1)',\n",
    "    b.view(-1,1),\n",
    "    'b.view(-1,4)',\n",
    "    b.view(-1,4),\n",
    "    'three_dim',\n",
    "    three_dim,\n",
    "    'three_dim.view(-1,1)',\n",
    "    three_dim.view(-1,1),\n",
    "    'three_dim.view(2,-1)',\n",
    "    three_dim.view(2,-1),\n",
    "    \n",
    "       )"
   ]
  },
  {
   "cell_type": "code",
   "execution_count": 12,
   "id": "e64835ba",
   "metadata": {},
   "outputs": [
    {
     "data": {
      "text/plain": [
       "tensor([[ 0.9626,  1.3798, -0.1716, -0.4546],\n",
       "        [-0.6733,  1.3833,  1.3515,  1.1742],\n",
       "        [ 0.5177, -1.9347, -0.8862, -1.4484],\n",
       "        [ 1.1314, -0.6441,  0.1888,  0.4291]])"
      ]
     },
     "execution_count": 12,
     "metadata": {},
     "output_type": "execute_result"
    }
   ],
   "source": [
    "r = torch.randn(4,4)\n",
    "r"
   ]
  },
  {
   "cell_type": "code",
   "execution_count": 13,
   "id": "d4f0f1aa",
   "metadata": {},
   "outputs": [
    {
     "data": {
      "text/plain": [
       "tensor([[0.6744, 0.6161, 0.6753, 0.2611],\n",
       "        [0.3001, 0.1645, 0.7491, 0.7572],\n",
       "        [0.9026, 0.5263, 0.8741, 0.7920],\n",
       "        [0.7478, 0.7653, 0.0284, 0.7885]])"
      ]
     },
     "execution_count": 13,
     "metadata": {},
     "output_type": "execute_result"
    }
   ],
   "source": [
    "r = torch.rand(4,4)\n",
    "r"
   ]
  },
  {
   "cell_type": "code",
   "execution_count": 19,
   "id": "22acf698",
   "metadata": {},
   "outputs": [
    {
     "data": {
      "text/plain": [
       "tensor([[9, 8, 7, 6],\n",
       "        [9, 6, 6, 6],\n",
       "        [8, 6, 8, 9],\n",
       "        [7, 7, 7, 6]])"
      ]
     },
     "execution_count": 19,
     "metadata": {},
     "output_type": "execute_result"
    }
   ],
   "source": [
    "int_arr = torch.randint(6,10,(4,4))\n",
    "int_arr"
   ]
  },
  {
   "cell_type": "code",
   "execution_count": 20,
   "id": "b1c77bfa",
   "metadata": {},
   "outputs": [
    {
     "data": {
      "text/plain": [
       "16"
      ]
     },
     "execution_count": 20,
     "metadata": {},
     "output_type": "execute_result"
    }
   ],
   "source": [
    "torch.numel(int_arr)"
   ]
  },
  {
   "cell_type": "code",
   "execution_count": 28,
   "id": "b9cec05b",
   "metadata": {},
   "outputs": [
    {
     "data": {
      "text/plain": [
       "tensor([[0, 0, 0],\n",
       "        [0, 0, 0],\n",
       "        [0, 0, 0]])"
      ]
     },
     "execution_count": 28,
     "metadata": {},
     "output_type": "execute_result"
    }
   ],
   "source": [
    "z = torch.zeros(3,3,dtype=torch.int64)\n",
    "z"
   ]
  },
  {
   "cell_type": "code",
   "execution_count": 30,
   "id": "5c094644",
   "metadata": {},
   "outputs": [
    {
     "data": {
      "text/plain": [
       "tensor([[0, 0, 0, 0],\n",
       "        [0, 0, 0, 0],\n",
       "        [0, 0, 0, 0],\n",
       "        [0, 0, 0, 0]])"
      ]
     },
     "execution_count": 30,
     "metadata": {},
     "output_type": "execute_result"
    }
   ],
   "source": [
    "torch.zero_(int_arr)"
   ]
  },
  {
   "cell_type": "code",
   "execution_count": 31,
   "id": "77ff8004",
   "metadata": {},
   "outputs": [
    {
     "data": {
      "text/plain": [
       "tensor([[0, 0, 0, 0],\n",
       "        [0, 0, 0, 0],\n",
       "        [0, 0, 0, 0],\n",
       "        [0, 0, 0, 0]])"
      ]
     },
     "execution_count": 31,
     "metadata": {},
     "output_type": "execute_result"
    }
   ],
   "source": [
    "int_arr"
   ]
  },
  {
   "cell_type": "code",
   "execution_count": 32,
   "id": "0ba24414",
   "metadata": {},
   "outputs": [
    {
     "data": {
      "text/plain": [
       "tensor([[[0., 0., 0., 0.],\n",
       "         [0., 0., 0., 0.],\n",
       "         [0., 0., 0., 0.]],\n",
       "\n",
       "        [[0., 0., 0., 0.],\n",
       "         [0., 0., 0., 0.],\n",
       "         [0., 0., 0., 0.]]])"
      ]
     },
     "execution_count": 32,
     "metadata": {},
     "output_type": "execute_result"
    }
   ],
   "source": [
    "torch.zeros_like(three_dim)"
   ]
  },
  {
   "cell_type": "code",
   "execution_count": 33,
   "id": "09fc1a9a",
   "metadata": {},
   "outputs": [
    {
     "data": {
      "text/plain": [
       "tensor([[[0.4757, 0.2558, 0.2533, 0.7494],\n",
       "         [0.5893, 0.1677, 0.5687, 0.1579],\n",
       "         [0.3362, 0.8865, 0.5379, 0.6909]],\n",
       "\n",
       "        [[0.3163, 0.1390, 0.3230, 0.7153],\n",
       "         [0.2439, 0.1324, 0.3043, 0.7885],\n",
       "         [0.1149, 0.8870, 0.7444, 0.4091]]])"
      ]
     },
     "execution_count": 33,
     "metadata": {},
     "output_type": "execute_result"
    }
   ],
   "source": [
    "torch.rand_like(three_dim)"
   ]
  },
  {
   "cell_type": "code",
   "execution_count": 37,
   "id": "85bb9b39",
   "metadata": {},
   "outputs": [
    {
     "data": {
      "text/plain": [
       "tensor([[[1, 0, 1, 1],\n",
       "         [0, 0, 1, 0],\n",
       "         [1, 0, 0, 1]],\n",
       "\n",
       "        [[1, 0, 0, 0],\n",
       "         [0, 0, 0, 0],\n",
       "         [1, 1, 1, 1]]])"
      ]
     },
     "execution_count": 37,
     "metadata": {},
     "output_type": "execute_result"
    }
   ],
   "source": [
    "new_three_dim=torch.randint_like(three_dim,0,2,dtype=torch.int64)\n",
    "new_three_dim"
   ]
  },
  {
   "cell_type": "code",
   "execution_count": 38,
   "id": "1d0defb8",
   "metadata": {},
   "outputs": [
    {
     "data": {
      "text/plain": [
       "tensor([[[2, 1, 2, 2],\n",
       "         [1, 1, 2, 1],\n",
       "         [2, 1, 1, 2]],\n",
       "\n",
       "        [[2, 1, 1, 1],\n",
       "         [1, 1, 1, 1],\n",
       "         [2, 2, 2, 2]]])"
      ]
     },
     "execution_count": 38,
     "metadata": {},
     "output_type": "execute_result"
    }
   ],
   "source": [
    "new_three_dim.add(1)"
   ]
  },
  {
   "cell_type": "code",
   "execution_count": 42,
   "id": "4f6d9feb",
   "metadata": {},
   "outputs": [
    {
     "data": {
      "text/plain": [
       "(tensor([[[2, 1, 2, 2],\n",
       "          [1, 1, 2, 1],\n",
       "          [2, 1, 1, 2]],\n",
       " \n",
       "         [[2, 1, 1, 1],\n",
       "          [1, 1, 1, 1],\n",
       "          [2, 2, 2, 2]]]),\n",
       " torch.Size([2, 3, 4]))"
      ]
     },
     "execution_count": 42,
     "metadata": {},
     "output_type": "execute_result"
    }
   ],
   "source": [
    "torch.add(new_three_dim,1),new_three_dim.shape"
   ]
  },
  {
   "cell_type": "code",
   "execution_count": 44,
   "id": "b2ec5589",
   "metadata": {},
   "outputs": [
    {
     "data": {
      "text/plain": [
       "tensor([[[11, 10, 11, 11],\n",
       "         [10, 10, 11, 10],\n",
       "         [11, 10, 10, 11]],\n",
       "\n",
       "        [[11, 10, 10, 10],\n",
       "         [10, 10, 10, 10],\n",
       "         [11, 11, 11, 11]]])"
      ]
     },
     "execution_count": 44,
     "metadata": {},
     "output_type": "execute_result"
    }
   ],
   "source": [
    "torch.add(new_three_dim,torch.ones_like(new_three_dim)*10)"
   ]
  },
  {
   "cell_type": "code",
   "execution_count": 52,
   "id": "0fc38524",
   "metadata": {},
   "outputs": [
    {
     "data": {
      "text/plain": [
       "tensor([[[71, 70, 71, 71],\n",
       "         [70, 70, 71, 70],\n",
       "         [71, 70, 70, 71]],\n",
       "\n",
       "        [[71, 70, 70, 70],\n",
       "         [70, 70, 70, 70],\n",
       "         [71, 71, 71, 71]]])"
      ]
     },
     "execution_count": 52,
     "metadata": {},
     "output_type": "execute_result"
    }
   ],
   "source": [
    "new_three_dim.add_(torch.ones_like(new_three_dim)*10)"
   ]
  },
  {
   "cell_type": "code",
   "execution_count": 64,
   "id": "e0d738bf",
   "metadata": {},
   "outputs": [
    {
     "data": {
      "text/plain": [
       "tensor([[71, 70, 71, 71, 70, 70],\n",
       "        [71, 70, 71, 70, 70, 71],\n",
       "        [71, 70, 70, 70, 70, 70],\n",
       "        [70, 70, 71, 71, 71, 71]])"
      ]
     },
     "execution_count": 64,
     "metadata": {},
     "output_type": "execute_result"
    }
   ],
   "source": [
    "new_three_dim = new_three_dim.view(4,-1)\n",
    "new_three_dim"
   ]
  },
  {
   "cell_type": "code",
   "execution_count": 67,
   "id": "b2ed3112",
   "metadata": {},
   "outputs": [
    {
     "data": {
      "text/plain": [
       "{'new_three_dim[:,1]': tensor([70, 70, 70, 70]),\n",
       " 'new_three_dim[:,:2]': tensor([[71, 70],\n",
       "         [71, 70],\n",
       "         [71, 70],\n",
       "         [70, 70]]),\n",
       " 'new_three_dim[:3,:]': tensor([[71, 70, 71, 71, 70, 70],\n",
       "         [71, 70, 71, 70, 70, 71],\n",
       "         [71, 70, 70, 70, 70, 70]]),\n",
       " 'new_three_dim[2,3]': tensor(70)}"
      ]
     },
     "metadata": {},
     "output_type": "display_data"
    }
   ],
   "source": [
    "display({\n",
    "    'new_three_dim[:,1]':new_three_dim[:,1],\n",
    "    'new_three_dim[:,:2]':new_three_dim[:,:2],\n",
    "    'new_three_dim[:3,:]':new_three_dim[:3,:],\n",
    "    'new_three_dim[2,3]':new_three_dim[2,3],\n",
    "    })"
   ]
  },
  {
   "cell_type": "markdown",
   "id": "7a2ea0e4",
   "metadata": {},
   "source": [
    "# numpy bridge"
   ]
  },
  {
   "cell_type": "code",
   "execution_count": 68,
   "id": "fc9dbc93",
   "metadata": {},
   "outputs": [],
   "source": [
    "import numpy as np"
   ]
  },
  {
   "cell_type": "code",
   "execution_count": 71,
   "id": "a41162c1",
   "metadata": {},
   "outputs": [
    {
     "data": {
      "text/plain": [
       "False"
      ]
     },
     "execution_count": 71,
     "metadata": {},
     "output_type": "execute_result"
    }
   ],
   "source": [
    "torch.cuda.is_available()"
   ]
  },
  {
   "cell_type": "code",
   "execution_count": null,
   "id": "6fdc153e",
   "metadata": {},
   "outputs": [],
   "source": []
  },
  {
   "cell_type": "code",
   "execution_count": null,
   "id": "adbcd1d9",
   "metadata": {},
   "outputs": [],
   "source": []
  },
  {
   "cell_type": "code",
   "execution_count": null,
   "id": "27ca20aa",
   "metadata": {},
   "outputs": [],
   "source": []
  },
  {
   "cell_type": "code",
   "execution_count": null,
   "id": "42130d46",
   "metadata": {},
   "outputs": [],
   "source": []
  },
  {
   "cell_type": "code",
   "execution_count": null,
   "id": "547779f0",
   "metadata": {},
   "outputs": [],
   "source": []
  },
  {
   "cell_type": "code",
   "execution_count": null,
   "id": "c0d2a7de",
   "metadata": {},
   "outputs": [],
   "source": []
  },
  {
   "cell_type": "code",
   "execution_count": null,
   "id": "bfba69d8",
   "metadata": {},
   "outputs": [],
   "source": []
  },
  {
   "cell_type": "code",
   "execution_count": null,
   "id": "7fe65484",
   "metadata": {},
   "outputs": [],
   "source": []
  },
  {
   "cell_type": "code",
   "execution_count": null,
   "id": "2dfd7b6e",
   "metadata": {},
   "outputs": [],
   "source": []
  },
  {
   "cell_type": "code",
   "execution_count": null,
   "id": "7dc5bc7d",
   "metadata": {},
   "outputs": [],
   "source": []
  },
  {
   "cell_type": "code",
   "execution_count": null,
   "id": "cc7d09ad",
   "metadata": {},
   "outputs": [],
   "source": []
  },
  {
   "cell_type": "code",
   "execution_count": null,
   "id": "a80a4d86",
   "metadata": {},
   "outputs": [],
   "source": []
  },
  {
   "cell_type": "code",
   "execution_count": null,
   "id": "aa6783f1",
   "metadata": {},
   "outputs": [],
   "source": []
  },
  {
   "cell_type": "code",
   "execution_count": null,
   "id": "deacbdae",
   "metadata": {},
   "outputs": [],
   "source": []
  },
  {
   "cell_type": "code",
   "execution_count": null,
   "id": "6ae393d0",
   "metadata": {},
   "outputs": [],
   "source": []
  },
  {
   "cell_type": "code",
   "execution_count": null,
   "id": "4744ba57",
   "metadata": {},
   "outputs": [],
   "source": []
  },
  {
   "cell_type": "code",
   "execution_count": null,
   "id": "428488b1",
   "metadata": {},
   "outputs": [],
   "source": []
  },
  {
   "cell_type": "code",
   "execution_count": null,
   "id": "ccd064d1",
   "metadata": {},
   "outputs": [],
   "source": []
  },
  {
   "cell_type": "code",
   "execution_count": null,
   "id": "48892005",
   "metadata": {},
   "outputs": [],
   "source": []
  },
  {
   "cell_type": "code",
   "execution_count": null,
   "id": "d93301f4",
   "metadata": {},
   "outputs": [],
   "source": []
  },
  {
   "cell_type": "code",
   "execution_count": null,
   "id": "dcf68a41",
   "metadata": {},
   "outputs": [],
   "source": []
  },
  {
   "cell_type": "code",
   "execution_count": null,
   "id": "e8638dfa",
   "metadata": {},
   "outputs": [],
   "source": []
  },
  {
   "cell_type": "code",
   "execution_count": null,
   "id": "bf90e773",
   "metadata": {},
   "outputs": [],
   "source": []
  },
  {
   "cell_type": "code",
   "execution_count": null,
   "id": "e0b57271",
   "metadata": {},
   "outputs": [],
   "source": []
  },
  {
   "cell_type": "code",
   "execution_count": null,
   "id": "b89573b8",
   "metadata": {},
   "outputs": [],
   "source": []
  },
  {
   "cell_type": "code",
   "execution_count": null,
   "id": "7a7983d3",
   "metadata": {},
   "outputs": [],
   "source": []
  },
  {
   "cell_type": "code",
   "execution_count": null,
   "id": "c3ba4958",
   "metadata": {},
   "outputs": [],
   "source": []
  },
  {
   "cell_type": "code",
   "execution_count": null,
   "id": "ad431272",
   "metadata": {},
   "outputs": [],
   "source": []
  },
  {
   "cell_type": "code",
   "execution_count": null,
   "id": "42c4f5a1",
   "metadata": {},
   "outputs": [],
   "source": []
  },
  {
   "cell_type": "code",
   "execution_count": null,
   "id": "a365c851",
   "metadata": {},
   "outputs": [],
   "source": []
  },
  {
   "cell_type": "code",
   "execution_count": null,
   "id": "fa47ebee",
   "metadata": {},
   "outputs": [],
   "source": []
  },
  {
   "cell_type": "code",
   "execution_count": null,
   "id": "d99ae105",
   "metadata": {},
   "outputs": [],
   "source": []
  },
  {
   "cell_type": "code",
   "execution_count": null,
   "id": "30227ae2",
   "metadata": {},
   "outputs": [],
   "source": []
  },
  {
   "cell_type": "code",
   "execution_count": null,
   "id": "0dcb977a",
   "metadata": {},
   "outputs": [],
   "source": []
  },
  {
   "cell_type": "code",
   "execution_count": null,
   "id": "a10e06e5",
   "metadata": {},
   "outputs": [],
   "source": []
  },
  {
   "cell_type": "code",
   "execution_count": null,
   "id": "4b5de05f",
   "metadata": {},
   "outputs": [],
   "source": []
  },
  {
   "cell_type": "code",
   "execution_count": null,
   "id": "8c4dfec7",
   "metadata": {},
   "outputs": [],
   "source": []
  },
  {
   "cell_type": "code",
   "execution_count": null,
   "id": "9aadafa5",
   "metadata": {},
   "outputs": [],
   "source": []
  },
  {
   "cell_type": "code",
   "execution_count": null,
   "id": "88ff12c6",
   "metadata": {},
   "outputs": [],
   "source": []
  }
 ],
 "metadata": {
  "kernelspec": {
   "display_name": "pytorch_gpu",
   "language": "python",
   "name": "pytorch_gpu"
  },
  "language_info": {
   "codemirror_mode": {
    "name": "ipython",
    "version": 3
   },
   "file_extension": ".py",
   "mimetype": "text/x-python",
   "name": "python",
   "nbconvert_exporter": "python",
   "pygments_lexer": "ipython3",
   "version": "3.10.6"
  }
 },
 "nbformat": 4,
 "nbformat_minor": 5
}
